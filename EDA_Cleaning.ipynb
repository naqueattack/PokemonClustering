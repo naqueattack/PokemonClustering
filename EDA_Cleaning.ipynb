{
 "cells": [
  {
   "cell_type": "code",
   "execution_count": 1,
   "id": "9e0de71b-abdb-450c-a5a9-e41eb6ff6efa",
   "metadata": {},
   "outputs": [],
   "source": [
    "import pandas as pd\n",
    "import numpy as np"
   ]
  },
  {
   "cell_type": "code",
   "execution_count": 151,
   "id": "6ef5ba9a-e943-44d7-9a23-6eb34d16fcb9",
   "metadata": {},
   "outputs": [],
   "source": [
    "df = pd.read_csv('data/pokedex_(Update_05.20).csv')"
   ]
  },
  {
   "cell_type": "code",
   "execution_count": 152,
   "id": "0db9a45d-f4c6-4af0-97ec-b5da2b9ade0a",
   "metadata": {},
   "outputs": [],
   "source": [
    "#drop irrelevant columns\n",
    "#drop all against columns to not duplicate type info\n",
    "df = df.drop(['generation','growth_rate','Unnamed: 0', 'german_name', 'japanese_name','species', 'height_m', 'weight_kg','against_normal','against_fire','against_water','against_grass','against_electric','against_ice','against_fight','against_poison','against_ground','against_flying','against_psychic','against_bug','against_rock','against_ghost','against_dragon','against_dark','against_steel','against_fairy'],axis=1)\n",
    "df = df.drop(['egg_type_number','egg_type_1','egg_type_2','egg_cycles','percentage_male','abilities_number', 'base_experience','catch_rate','base_friendship'],axis=1)"
   ]
  },
  {
   "cell_type": "code",
   "execution_count": 153,
   "id": "0d02fe70-09a2-4cc2-b42f-b17160304f55",
   "metadata": {},
   "outputs": [],
   "source": [
    "#drop columns with too much info\n",
    "df = df.drop(['ability_1','ability_2','ability_hidden'],axis=1)"
   ]
  },
  {
   "cell_type": "code",
   "execution_count": 154,
   "id": "f04e1850-aee3-4477-ac99-942113f375a6",
   "metadata": {},
   "outputs": [],
   "source": [
    "#drop all legendary, mythical etc.\n",
    "df = df[df['status']=='Normal']\n",
    "df = df.drop(['status'],axis=1)"
   ]
  },
  {
   "cell_type": "code",
   "execution_count": 155,
   "id": "2accee8b-c7a8-40a6-adee-3a4f4263bfaa",
   "metadata": {},
   "outputs": [],
   "source": [
    "#dropping type from new dataframe\n",
    "X = df.drop(['type_1','type_2'],axis=1)"
   ]
  },
  {
   "cell_type": "code",
   "execution_count": 156,
   "id": "9a2b0f10-6fcc-4112-b09a-15c0b6b50dd9",
   "metadata": {},
   "outputs": [],
   "source": [
    "#convert type number to 1/0\n",
    "X['type_number'] = X['type_number']-1"
   ]
  },
  {
   "cell_type": "code",
   "execution_count": 158,
   "id": "502ced85-c118-4164-b27d-be87c1d3e9b5",
   "metadata": {},
   "outputs": [],
   "source": [
    "X_small = X[X['total_points']<=350]\n",
    "X_large = X[X['total_points']>350]"
   ]
  },
  {
   "cell_type": "code",
   "execution_count": 160,
   "id": "112ca085-1a8a-41a7-8b57-471532f6c14d",
   "metadata": {},
   "outputs": [
    {
     "name": "stderr",
     "output_type": "stream",
     "text": [
      "C:\\Users\\Andrew\\AppData\\Local\\Temp\\ipykernel_13780\\169425172.py:6: SettingWithCopyWarning: \n",
      "A value is trying to be set on a copy of a slice from a DataFrame.\n",
      "Try using .loc[row_indexer,col_indexer] = value instead\n",
      "\n",
      "See the caveats in the documentation: https://pandas.pydata.org/pandas-docs/stable/user_guide/indexing.html#returning-a-view-versus-a-copy\n",
      "  X_small[num_col] = scaler.fit_transform(X_small[num_col])\n",
      "C:\\Users\\Andrew\\AppData\\Local\\Temp\\ipykernel_13780\\169425172.py:7: SettingWithCopyWarning: \n",
      "A value is trying to be set on a copy of a slice from a DataFrame.\n",
      "Try using .loc[row_indexer,col_indexer] = value instead\n",
      "\n",
      "See the caveats in the documentation: https://pandas.pydata.org/pandas-docs/stable/user_guide/indexing.html#returning-a-view-versus-a-copy\n",
      "  X_large[num_col] = scaler.fit_transform(X_large[num_col])\n"
     ]
    }
   ],
   "source": [
    "#scale data\n",
    "from sklearn.preprocessing import StandardScaler\n",
    "\n",
    "scaler = StandardScaler()\n",
    "num_col = ['total_points','hp','attack','defense','sp_attack','sp_defense','speed']\n",
    "X_small[num_col] = scaler.fit_transform(X_small[num_col])\n",
    "X_large[num_col] = scaler.fit_transform(X_large[num_col])"
   ]
  },
  {
   "cell_type": "code",
   "execution_count": 161,
   "id": "bac6d85d-f26f-49c8-bc04-0308d4867198",
   "metadata": {},
   "outputs": [
    {
     "data": {
      "text/html": [
       "<div>\n",
       "<style scoped>\n",
       "    .dataframe tbody tr th:only-of-type {\n",
       "        vertical-align: middle;\n",
       "    }\n",
       "\n",
       "    .dataframe tbody tr th {\n",
       "        vertical-align: top;\n",
       "    }\n",
       "\n",
       "    .dataframe thead th {\n",
       "        text-align: right;\n",
       "    }\n",
       "</style>\n",
       "<table border=\"1\" class=\"dataframe\">\n",
       "  <thead>\n",
       "    <tr style=\"text-align: right;\">\n",
       "      <th></th>\n",
       "      <th>pokedex_number</th>\n",
       "      <th>name</th>\n",
       "      <th>type_number</th>\n",
       "      <th>total_points</th>\n",
       "      <th>hp</th>\n",
       "      <th>attack</th>\n",
       "      <th>defense</th>\n",
       "      <th>sp_attack</th>\n",
       "      <th>sp_defense</th>\n",
       "      <th>speed</th>\n",
       "    </tr>\n",
       "  </thead>\n",
       "  <tbody>\n",
       "    <tr>\n",
       "      <th>0</th>\n",
       "      <td>1</td>\n",
       "      <td>Bulbasaur</td>\n",
       "      <td>1</td>\n",
       "      <td>0.672591</td>\n",
       "      <td>-0.219739</td>\n",
       "      <td>-0.175449</td>\n",
       "      <td>-0.046393</td>\n",
       "      <td>1.217857</td>\n",
       "      <td>1.203097</td>\n",
       "      <td>-0.167732</td>\n",
       "    </tr>\n",
       "    <tr>\n",
       "      <th>4</th>\n",
       "      <td>4</td>\n",
       "      <td>Charmander</td>\n",
       "      <td>0</td>\n",
       "      <td>0.448774</td>\n",
       "      <td>-0.639991</td>\n",
       "      <td>-0.011934</td>\n",
       "      <td>-0.381736</td>\n",
       "      <td>0.908129</td>\n",
       "      <td>0.189847</td>\n",
       "      <td>0.868112</td>\n",
       "    </tr>\n",
       "    <tr>\n",
       "      <th>9</th>\n",
       "      <td>7</td>\n",
       "      <td>Squirtle</td>\n",
       "      <td>0</td>\n",
       "      <td>0.573117</td>\n",
       "      <td>-0.289781</td>\n",
       "      <td>-0.229955</td>\n",
       "      <td>0.847856</td>\n",
       "      <td>0.288674</td>\n",
       "      <td>1.135547</td>\n",
       "      <td>-0.271317</td>\n",
       "    </tr>\n",
       "    <tr>\n",
       "      <th>13</th>\n",
       "      <td>10</td>\n",
       "      <td>Caterpie</td>\n",
       "      <td>0</td>\n",
       "      <td>-2.386253</td>\n",
       "      <td>-0.219739</td>\n",
       "      <td>-1.211046</td>\n",
       "      <td>-0.828860</td>\n",
       "      <td>-1.569691</td>\n",
       "      <td>-1.836655</td>\n",
       "      <td>-0.167732</td>\n",
       "    </tr>\n",
       "    <tr>\n",
       "      <th>14</th>\n",
       "      <td>11</td>\n",
       "      <td>Metapod</td>\n",
       "      <td>0</td>\n",
       "      <td>-2.137567</td>\n",
       "      <td>0.130470</td>\n",
       "      <td>-1.756098</td>\n",
       "      <td>0.288950</td>\n",
       "      <td>-1.259964</td>\n",
       "      <td>-1.498905</td>\n",
       "      <td>-0.944615</td>\n",
       "    </tr>\n",
       "    <tr>\n",
       "      <th>...</th>\n",
       "      <td>...</td>\n",
       "      <td>...</td>\n",
       "      <td>...</td>\n",
       "      <td>...</td>\n",
       "      <td>...</td>\n",
       "      <td>...</td>\n",
       "      <td>...</td>\n",
       "      <td>...</td>\n",
       "      <td>...</td>\n",
       "      <td>...</td>\n",
       "    </tr>\n",
       "    <tr>\n",
       "      <th>990</th>\n",
       "      <td>859</td>\n",
       "      <td>Impidimp</td>\n",
       "      <td>1</td>\n",
       "      <td>-0.645447</td>\n",
       "      <td>-0.219739</td>\n",
       "      <td>-0.393470</td>\n",
       "      <td>-1.108313</td>\n",
       "      <td>0.598402</td>\n",
       "      <td>-0.485654</td>\n",
       "      <td>0.091229</td>\n",
       "    </tr>\n",
       "    <tr>\n",
       "      <th>999</th>\n",
       "      <td>868</td>\n",
       "      <td>Milcery</td>\n",
       "      <td>0</td>\n",
       "      <td>-0.521104</td>\n",
       "      <td>-0.219739</td>\n",
       "      <td>-0.665995</td>\n",
       "      <td>-0.549408</td>\n",
       "      <td>0.288674</td>\n",
       "      <td>0.932897</td>\n",
       "      <td>-0.737446</td>\n",
       "    </tr>\n",
       "    <tr>\n",
       "      <th>1003</th>\n",
       "      <td>872</td>\n",
       "      <td>Snom</td>\n",
       "      <td>1</td>\n",
       "      <td>-2.634940</td>\n",
       "      <td>-1.270368</td>\n",
       "      <td>-1.483572</td>\n",
       "      <td>-0.828860</td>\n",
       "      <td>-0.021053</td>\n",
       "      <td>-1.161154</td>\n",
       "      <td>-1.462537</td>\n",
       "    </tr>\n",
       "    <tr>\n",
       "      <th>1012</th>\n",
       "      <td>878</td>\n",
       "      <td>Cufant</td>\n",
       "      <td>0</td>\n",
       "      <td>0.971015</td>\n",
       "      <td>1.671393</td>\n",
       "      <td>1.514209</td>\n",
       "      <td>-0.046393</td>\n",
       "      <td>-0.330781</td>\n",
       "      <td>0.122296</td>\n",
       "      <td>-0.426693</td>\n",
       "    </tr>\n",
       "    <tr>\n",
       "      <th>1019</th>\n",
       "      <td>885</td>\n",
       "      <td>Dreepy</td>\n",
       "      <td>1</td>\n",
       "      <td>-0.521104</td>\n",
       "      <td>-1.410452</td>\n",
       "      <td>0.424107</td>\n",
       "      <td>-1.108313</td>\n",
       "      <td>-0.330781</td>\n",
       "      <td>-1.161154</td>\n",
       "      <td>1.748579</td>\n",
       "    </tr>\n",
       "  </tbody>\n",
       "</table>\n",
       "<p>306 rows × 10 columns</p>\n",
       "</div>"
      ],
      "text/plain": [
       "      pokedex_number        name  type_number  total_points        hp  \\\n",
       "0                  1   Bulbasaur            1      0.672591 -0.219739   \n",
       "4                  4  Charmander            0      0.448774 -0.639991   \n",
       "9                  7    Squirtle            0      0.573117 -0.289781   \n",
       "13                10    Caterpie            0     -2.386253 -0.219739   \n",
       "14                11     Metapod            0     -2.137567  0.130470   \n",
       "...              ...         ...          ...           ...       ...   \n",
       "990              859    Impidimp            1     -0.645447 -0.219739   \n",
       "999              868     Milcery            0     -0.521104 -0.219739   \n",
       "1003             872        Snom            1     -2.634940 -1.270368   \n",
       "1012             878      Cufant            0      0.971015  1.671393   \n",
       "1019             885      Dreepy            1     -0.521104 -1.410452   \n",
       "\n",
       "        attack   defense  sp_attack  sp_defense     speed  \n",
       "0    -0.175449 -0.046393   1.217857    1.203097 -0.167732  \n",
       "4    -0.011934 -0.381736   0.908129    0.189847  0.868112  \n",
       "9    -0.229955  0.847856   0.288674    1.135547 -0.271317  \n",
       "13   -1.211046 -0.828860  -1.569691   -1.836655 -0.167732  \n",
       "14   -1.756098  0.288950  -1.259964   -1.498905 -0.944615  \n",
       "...        ...       ...        ...         ...       ...  \n",
       "990  -0.393470 -1.108313   0.598402   -0.485654  0.091229  \n",
       "999  -0.665995 -0.549408   0.288674    0.932897 -0.737446  \n",
       "1003 -1.483572 -0.828860  -0.021053   -1.161154 -1.462537  \n",
       "1012  1.514209 -0.046393  -0.330781    0.122296 -0.426693  \n",
       "1019  0.424107 -1.108313  -0.330781   -1.161154  1.748579  \n",
       "\n",
       "[306 rows x 10 columns]"
      ]
     },
     "execution_count": 161,
     "metadata": {},
     "output_type": "execute_result"
    }
   ],
   "source": [
    "X_small"
   ]
  },
  {
   "cell_type": "code",
   "execution_count": 163,
   "id": "510a2288-40a2-4974-955e-e8574a0f4cc0",
   "metadata": {},
   "outputs": [
    {
     "data": {
      "text/html": [
       "<div>\n",
       "<style scoped>\n",
       "    .dataframe tbody tr th:only-of-type {\n",
       "        vertical-align: middle;\n",
       "    }\n",
       "\n",
       "    .dataframe tbody tr th {\n",
       "        vertical-align: top;\n",
       "    }\n",
       "\n",
       "    .dataframe thead th {\n",
       "        text-align: right;\n",
       "    }\n",
       "</style>\n",
       "<table border=\"1\" class=\"dataframe\">\n",
       "  <thead>\n",
       "    <tr style=\"text-align: right;\">\n",
       "      <th></th>\n",
       "      <th>total_points</th>\n",
       "      <th>hp</th>\n",
       "      <th>attack</th>\n",
       "      <th>defense</th>\n",
       "      <th>sp_attack</th>\n",
       "      <th>sp_defense</th>\n",
       "      <th>speed</th>\n",
       "    </tr>\n",
       "  </thead>\n",
       "  <tbody>\n",
       "    <tr>\n",
       "      <th>total_points</th>\n",
       "      <td>1.000000</td>\n",
       "      <td>0.312166</td>\n",
       "      <td>0.525475</td>\n",
       "      <td>0.406332</td>\n",
       "      <td>0.474076</td>\n",
       "      <td>0.435098</td>\n",
       "      <td>0.245972</td>\n",
       "    </tr>\n",
       "    <tr>\n",
       "      <th>hp</th>\n",
       "      <td>0.312166</td>\n",
       "      <td>1.000000</td>\n",
       "      <td>0.189008</td>\n",
       "      <td>0.025345</td>\n",
       "      <td>-0.020110</td>\n",
       "      <td>0.021446</td>\n",
       "      <td>-0.292036</td>\n",
       "    </tr>\n",
       "    <tr>\n",
       "      <th>attack</th>\n",
       "      <td>0.525475</td>\n",
       "      <td>0.189008</td>\n",
       "      <td>1.000000</td>\n",
       "      <td>0.262296</td>\n",
       "      <td>-0.063894</td>\n",
       "      <td>-0.248580</td>\n",
       "      <td>0.005332</td>\n",
       "    </tr>\n",
       "    <tr>\n",
       "      <th>defense</th>\n",
       "      <td>0.406332</td>\n",
       "      <td>0.025345</td>\n",
       "      <td>0.262296</td>\n",
       "      <td>1.000000</td>\n",
       "      <td>-0.135175</td>\n",
       "      <td>0.179663</td>\n",
       "      <td>-0.373147</td>\n",
       "    </tr>\n",
       "    <tr>\n",
       "      <th>sp_attack</th>\n",
       "      <td>0.474076</td>\n",
       "      <td>-0.020110</td>\n",
       "      <td>-0.063894</td>\n",
       "      <td>-0.135175</td>\n",
       "      <td>1.000000</td>\n",
       "      <td>0.291423</td>\n",
       "      <td>0.128638</td>\n",
       "    </tr>\n",
       "    <tr>\n",
       "      <th>sp_defense</th>\n",
       "      <td>0.435098</td>\n",
       "      <td>0.021446</td>\n",
       "      <td>-0.248580</td>\n",
       "      <td>0.179663</td>\n",
       "      <td>0.291423</td>\n",
       "      <td>1.000000</td>\n",
       "      <td>-0.050373</td>\n",
       "    </tr>\n",
       "    <tr>\n",
       "      <th>speed</th>\n",
       "      <td>0.245972</td>\n",
       "      <td>-0.292036</td>\n",
       "      <td>0.005332</td>\n",
       "      <td>-0.373147</td>\n",
       "      <td>0.128638</td>\n",
       "      <td>-0.050373</td>\n",
       "      <td>1.000000</td>\n",
       "    </tr>\n",
       "  </tbody>\n",
       "</table>\n",
       "</div>"
      ],
      "text/plain": [
       "              total_points        hp    attack   defense  sp_attack  \\\n",
       "total_points      1.000000  0.312166  0.525475  0.406332   0.474076   \n",
       "hp                0.312166  1.000000  0.189008  0.025345  -0.020110   \n",
       "attack            0.525475  0.189008  1.000000  0.262296  -0.063894   \n",
       "defense           0.406332  0.025345  0.262296  1.000000  -0.135175   \n",
       "sp_attack         0.474076 -0.020110 -0.063894 -0.135175   1.000000   \n",
       "sp_defense        0.435098  0.021446 -0.248580  0.179663   0.291423   \n",
       "speed             0.245972 -0.292036  0.005332 -0.373147   0.128638   \n",
       "\n",
       "              sp_defense     speed  \n",
       "total_points    0.435098  0.245972  \n",
       "hp              0.021446 -0.292036  \n",
       "attack         -0.248580  0.005332  \n",
       "defense         0.179663 -0.373147  \n",
       "sp_attack       0.291423  0.128638  \n",
       "sp_defense      1.000000 -0.050373  \n",
       "speed          -0.050373  1.000000  "
      ]
     },
     "execution_count": 163,
     "metadata": {},
     "output_type": "execute_result"
    }
   ],
   "source": [
    "#some high correlations\n",
    "X_small[num_col].corr()"
   ]
  },
  {
   "cell_type": "code",
   "execution_count": 164,
   "id": "a7f395c2-4614-4b95-a4e8-62e65e23d511",
   "metadata": {},
   "outputs": [
    {
     "data": {
      "text/html": [
       "<div>\n",
       "<style scoped>\n",
       "    .dataframe tbody tr th:only-of-type {\n",
       "        vertical-align: middle;\n",
       "    }\n",
       "\n",
       "    .dataframe tbody tr th {\n",
       "        vertical-align: top;\n",
       "    }\n",
       "\n",
       "    .dataframe thead th {\n",
       "        text-align: right;\n",
       "    }\n",
       "</style>\n",
       "<table border=\"1\" class=\"dataframe\">\n",
       "  <thead>\n",
       "    <tr style=\"text-align: right;\">\n",
       "      <th></th>\n",
       "      <th>total_points</th>\n",
       "      <th>hp</th>\n",
       "      <th>attack</th>\n",
       "      <th>defense</th>\n",
       "      <th>sp_attack</th>\n",
       "      <th>sp_defense</th>\n",
       "      <th>speed</th>\n",
       "    </tr>\n",
       "  </thead>\n",
       "  <tbody>\n",
       "    <tr>\n",
       "      <th>total_points</th>\n",
       "      <td>1.000000</td>\n",
       "      <td>0.309370</td>\n",
       "      <td>0.520421</td>\n",
       "      <td>0.381787</td>\n",
       "      <td>0.478012</td>\n",
       "      <td>0.440714</td>\n",
       "      <td>0.274800</td>\n",
       "    </tr>\n",
       "    <tr>\n",
       "      <th>hp</th>\n",
       "      <td>0.309370</td>\n",
       "      <td>1.000000</td>\n",
       "      <td>0.148008</td>\n",
       "      <td>-0.098086</td>\n",
       "      <td>-0.007404</td>\n",
       "      <td>0.004407</td>\n",
       "      <td>-0.147308</td>\n",
       "    </tr>\n",
       "    <tr>\n",
       "      <th>attack</th>\n",
       "      <td>0.520421</td>\n",
       "      <td>0.148008</td>\n",
       "      <td>1.000000</td>\n",
       "      <td>0.195269</td>\n",
       "      <td>-0.092663</td>\n",
       "      <td>-0.170582</td>\n",
       "      <td>0.089842</td>\n",
       "    </tr>\n",
       "    <tr>\n",
       "      <th>defense</th>\n",
       "      <td>0.381787</td>\n",
       "      <td>-0.098086</td>\n",
       "      <td>0.195269</td>\n",
       "      <td>1.000000</td>\n",
       "      <td>-0.132051</td>\n",
       "      <td>0.285561</td>\n",
       "      <td>-0.377169</td>\n",
       "    </tr>\n",
       "    <tr>\n",
       "      <th>sp_attack</th>\n",
       "      <td>0.478012</td>\n",
       "      <td>-0.007404</td>\n",
       "      <td>-0.092663</td>\n",
       "      <td>-0.132051</td>\n",
       "      <td>1.000000</td>\n",
       "      <td>0.217120</td>\n",
       "      <td>0.157704</td>\n",
       "    </tr>\n",
       "    <tr>\n",
       "      <th>sp_defense</th>\n",
       "      <td>0.440714</td>\n",
       "      <td>0.004407</td>\n",
       "      <td>-0.170582</td>\n",
       "      <td>0.285561</td>\n",
       "      <td>0.217120</td>\n",
       "      <td>1.000000</td>\n",
       "      <td>-0.152896</td>\n",
       "    </tr>\n",
       "    <tr>\n",
       "      <th>speed</th>\n",
       "      <td>0.274800</td>\n",
       "      <td>-0.147308</td>\n",
       "      <td>0.089842</td>\n",
       "      <td>-0.377169</td>\n",
       "      <td>0.157704</td>\n",
       "      <td>-0.152896</td>\n",
       "      <td>1.000000</td>\n",
       "    </tr>\n",
       "  </tbody>\n",
       "</table>\n",
       "</div>"
      ],
      "text/plain": [
       "              total_points        hp    attack   defense  sp_attack  \\\n",
       "total_points      1.000000  0.309370  0.520421  0.381787   0.478012   \n",
       "hp                0.309370  1.000000  0.148008 -0.098086  -0.007404   \n",
       "attack            0.520421  0.148008  1.000000  0.195269  -0.092663   \n",
       "defense           0.381787 -0.098086  0.195269  1.000000  -0.132051   \n",
       "sp_attack         0.478012 -0.007404 -0.092663 -0.132051   1.000000   \n",
       "sp_defense        0.440714  0.004407 -0.170582  0.285561   0.217120   \n",
       "speed             0.274800 -0.147308  0.089842 -0.377169   0.157704   \n",
       "\n",
       "              sp_defense     speed  \n",
       "total_points    0.440714  0.274800  \n",
       "hp              0.004407 -0.147308  \n",
       "attack         -0.170582  0.089842  \n",
       "defense         0.285561 -0.377169  \n",
       "sp_attack       0.217120  0.157704  \n",
       "sp_defense      1.000000 -0.152896  \n",
       "speed          -0.152896  1.000000  "
      ]
     },
     "execution_count": 164,
     "metadata": {},
     "output_type": "execute_result"
    }
   ],
   "source": [
    "X_large[num_col].corr()"
   ]
  },
  {
   "cell_type": "code",
   "execution_count": 165,
   "id": "050da89e-4659-4d64-aa7a-786c7a14a570",
   "metadata": {},
   "outputs": [
    {
     "data": {
      "text/plain": [
       "array([[<Axes: title={'center': 'total_points'}>,\n",
       "        <Axes: title={'center': 'hp'}>,\n",
       "        <Axes: title={'center': 'attack'}>],\n",
       "       [<Axes: title={'center': 'defense'}>,\n",
       "        <Axes: title={'center': 'sp_attack'}>,\n",
       "        <Axes: title={'center': 'sp_defense'}>],\n",
       "       [<Axes: title={'center': 'speed'}>, <Axes: >, <Axes: >]],\n",
       "      dtype=object)"
      ]
     },
     "execution_count": 165,
     "metadata": {},
     "output_type": "execute_result"
    },
    {
     "data": {
      "image/png": "[encoded data removed]",
      "text/plain": [
       "<Figure size 1000x1000 with 9 Axes>"
      ]
     },
     "metadata": {},
     "output_type": "display_data"
    }
   ],
   "source": [
    "X_small[num_col].hist(figsize = (10,10))"
   ]
  },
  {
   "cell_type": "code",
   "execution_count": 174,
   "id": "2728f10f-f662-4267-9807-ac85d392f22b",
   "metadata": {},
   "outputs": [
    {
     "data": {
      "text/plain": [
       "<Axes: xlabel='total_points', ylabel='Count'>"
      ]
     },
     "execution_count": 174,
     "metadata": {},
     "output_type": "execute_result"
    },
    {
     "data": {
      "image/png": "[encoded data removed]",
      "text/plain": [
       "<Figure size 640x480 with 1 Axes>"
      ]
     },
     "metadata": {},
     "output_type": "display_data"
    }
   ],
   "source": [
    "import seaborn as sns\n",
    "sns.histplot(X['total_points'])"
   ]
  },
  {
   "cell_type": "code",
   "execution_count": 177,
   "id": "451baf3a-a462-4dff-a9ff-eb300a192eda",
   "metadata": {},
   "outputs": [
    {
     "data": {
      "text/plain": [
       "<Axes: >"
      ]
     },
     "execution_count": 177,
     "metadata": {},
     "output_type": "execute_result"
    },
    {
     "data": {
      "image/png": "[encoded data removed]",
      "text/plain": [
       "<Figure size 640x480 with 2 Axes>"
      ]
     },
     "metadata": {},
     "output_type": "display_data"
    }
   ],
   "source": [
    "sns.heatmap(df[num_col].corr())"
   ]
  },
  {
   "cell_type": "code",
   "execution_count": 178,
   "id": "5c8cc3fd-6065-4d64-b429-d99d0d33d7d9",
   "metadata": {},
   "outputs": [
    {
     "data": {
      "text/html": [
       "<div>\n",
       "<style scoped>\n",
       "    .dataframe tbody tr th:only-of-type {\n",
       "        vertical-align: middle;\n",
       "    }\n",
       "\n",
       "    .dataframe tbody tr th {\n",
       "        vertical-align: top;\n",
       "    }\n",
       "\n",
       "    .dataframe thead th {\n",
       "        text-align: right;\n",
       "    }\n",
       "</style>\n",
       "<table border=\"1\" class=\"dataframe\">\n",
       "  <thead>\n",
       "    <tr style=\"text-align: right;\">\n",
       "      <th></th>\n",
       "      <th>total_points</th>\n",
       "      <th>hp</th>\n",
       "      <th>attack</th>\n",
       "      <th>defense</th>\n",
       "      <th>sp_attack</th>\n",
       "      <th>sp_defense</th>\n",
       "      <th>speed</th>\n",
       "    </tr>\n",
       "  </thead>\n",
       "  <tbody>\n",
       "    <tr>\n",
       "      <th>total_points</th>\n",
       "      <td>1.000000</td>\n",
       "      <td>0.599344</td>\n",
       "      <td>0.706270</td>\n",
       "      <td>0.611602</td>\n",
       "      <td>0.678156</td>\n",
       "      <td>0.693407</td>\n",
       "      <td>0.487491</td>\n",
       "    </tr>\n",
       "    <tr>\n",
       "      <th>hp</th>\n",
       "      <td>0.599344</td>\n",
       "      <td>1.000000</td>\n",
       "      <td>0.414430</td>\n",
       "      <td>0.224839</td>\n",
       "      <td>0.293388</td>\n",
       "      <td>0.330815</td>\n",
       "      <td>0.098548</td>\n",
       "    </tr>\n",
       "    <tr>\n",
       "      <th>attack</th>\n",
       "      <td>0.706270</td>\n",
       "      <td>0.414430</td>\n",
       "      <td>1.000000</td>\n",
       "      <td>0.436095</td>\n",
       "      <td>0.249016</td>\n",
       "      <td>0.214019</td>\n",
       "      <td>0.293237</td>\n",
       "    </tr>\n",
       "    <tr>\n",
       "      <th>defense</th>\n",
       "      <td>0.611602</td>\n",
       "      <td>0.224839</td>\n",
       "      <td>0.436095</td>\n",
       "      <td>1.000000</td>\n",
       "      <td>0.188061</td>\n",
       "      <td>0.491184</td>\n",
       "      <td>-0.075142</td>\n",
       "    </tr>\n",
       "    <tr>\n",
       "      <th>sp_attack</th>\n",
       "      <td>0.678156</td>\n",
       "      <td>0.293388</td>\n",
       "      <td>0.249016</td>\n",
       "      <td>0.188061</td>\n",
       "      <td>1.000000</td>\n",
       "      <td>0.482180</td>\n",
       "      <td>0.347839</td>\n",
       "    </tr>\n",
       "    <tr>\n",
       "      <th>sp_defense</th>\n",
       "      <td>0.693407</td>\n",
       "      <td>0.330815</td>\n",
       "      <td>0.214019</td>\n",
       "      <td>0.491184</td>\n",
       "      <td>0.482180</td>\n",
       "      <td>1.000000</td>\n",
       "      <td>0.155192</td>\n",
       "    </tr>\n",
       "    <tr>\n",
       "      <th>speed</th>\n",
       "      <td>0.487491</td>\n",
       "      <td>0.098548</td>\n",
       "      <td>0.293237</td>\n",
       "      <td>-0.075142</td>\n",
       "      <td>0.347839</td>\n",
       "      <td>0.155192</td>\n",
       "      <td>1.000000</td>\n",
       "    </tr>\n",
       "  </tbody>\n",
       "</table>\n",
       "</div>"
      ],
      "text/plain": [
       "              total_points        hp    attack   defense  sp_attack  \\\n",
       "total_points      1.000000  0.599344  0.706270  0.611602   0.678156   \n",
       "hp                0.599344  1.000000  0.414430  0.224839   0.293388   \n",
       "attack            0.706270  0.414430  1.000000  0.436095   0.249016   \n",
       "defense           0.611602  0.224839  0.436095  1.000000   0.188061   \n",
       "sp_attack         0.678156  0.293388  0.249016  0.188061   1.000000   \n",
       "sp_defense        0.693407  0.330815  0.214019  0.491184   0.482180   \n",
       "speed             0.487491  0.098548  0.293237 -0.075142   0.347839   \n",
       "\n",
       "              sp_defense     speed  \n",
       "total_points    0.693407  0.487491  \n",
       "hp              0.330815  0.098548  \n",
       "attack          0.214019  0.293237  \n",
       "defense         0.491184 -0.075142  \n",
       "sp_attack       0.482180  0.347839  \n",
       "sp_defense      1.000000  0.155192  \n",
       "speed           0.155192  1.000000  "
      ]
     },
     "execution_count": 178,
     "metadata": {},
     "output_type": "execute_result"
    }
   ],
   "source": [
    "df[num_col].corr()"
   ]
  },
  {
   "cell_type": "code",
   "execution_count": 166,
   "id": "a1367cf4-3443-4234-ab59-a4c2098da5e1",
   "metadata": {},
   "outputs": [
    {
     "data": {
      "text/plain": [
       "array([[<Axes: title={'center': 'total_points'}>,\n",
       "        <Axes: title={'center': 'hp'}>,\n",
       "        <Axes: title={'center': 'attack'}>],\n",
       "       [<Axes: title={'center': 'defense'}>,\n",
       "        <Axes: title={'center': 'sp_attack'}>,\n",
       "        <Axes: title={'center': 'sp_defense'}>],\n",
       "       [<Axes: title={'center': 'speed'}>, <Axes: >, <Axes: >]],\n",
       "      dtype=object)"
      ]
     },
     "execution_count": 166,
     "metadata": {},
     "output_type": "execute_result"
    },
    {
     "data": {
      "image/png": "[encoded data removed]",
      "text/plain": [
       "<Figure size 1000x1000 with 9 Axes>"
      ]
     },
     "metadata": {},
     "output_type": "display_data"
    }
   ],
   "source": [
    "X_large[num_col].hist(figsize = (10,10))"
   ]
  },
  {
   "cell_type": "code",
   "execution_count": 168,
   "id": "ceb03b52-e36e-41a9-b5c9-772536047e05",
   "metadata": {},
   "outputs": [],
   "source": [
    "#drop identifiers and save file\n",
    "X_small = X_small.drop(['name','pokedex_number'],axis=1)\n",
    "X_large = X_large.drop(['name','pokedex_number'],axis=1)"
   ]
  },
  {
   "cell_type": "code",
   "execution_count": 169,
   "id": "b6f7eb8b-f51c-4c07-a6d9-852f18fa060e",
   "metadata": {},
   "outputs": [],
   "source": [
    "X_small.to_csv('data/pokemon_small.csv',index=False)\n",
    "X_large.to_csv('data/pokemon_large.csv',index=False)"
   ]
  },
  {
   "cell_type": "code",
   "execution_count": null,
   "id": "15cfeaa1-5f77-4c24-8b78-7b7645f04141",
   "metadata": {},
   "outputs": [],
   "source": []
  }
 ],
 "metadata": {
  "kernelspec": {
   "display_name": "LHL_env",
   "language": "python",
   "name": "lhl_env"
  },
  "language_info": {
   "codemirror_mode": {
    "name": "ipython",
    "version": 3
   },
   "file_extension": ".py",
   "mimetype": "text/x-python",
   "name": "python",
   "nbconvert_exporter": "python",
   "pygments_lexer": "ipython3",
   "version": "3.10.9"
  }
 },
 "nbformat": 4,
 "nbformat_minor": 5
}
